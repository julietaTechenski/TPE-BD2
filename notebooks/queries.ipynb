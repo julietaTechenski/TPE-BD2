{
 "cells": [
  {
   "cell_type": "code",
   "execution_count": null,
   "id": "2629730d",
   "metadata": {},
   "outputs": [
    {
     "ename": "ModuleNotFoundError",
     "evalue": "No module named 'pymongo'",
     "output_type": "error",
     "traceback": [
      "\u001b[31m---------------------------------------------------------------------------\u001b[39m",
      "\u001b[31mModuleNotFoundError\u001b[39m                       Traceback (most recent call last)",
      "\u001b[36mCell\u001b[39m\u001b[36m \u001b[39m\u001b[32mIn[5]\u001b[39m\u001b[32m, line 1\u001b[39m\n\u001b[32m----> \u001b[39m\u001b[32m1\u001b[39m \u001b[38;5;28;01mfrom\u001b[39;00m\u001b[38;5;250m \u001b[39m\u001b[34;01mpymongo\u001b[39;00m\u001b[38;5;250m \u001b[39m\u001b[38;5;28;01mimport\u001b[39;00m MongoClient\n\u001b[32m      3\u001b[39m client = MongoClient(\u001b[33m\"\u001b[39m\u001b[33mmongodb://mongo:27017\u001b[39m\u001b[33m\"\u001b[39m)  \u001b[38;5;66;03m# o \"mongodb://mongo:27017\" si estás en Docker\u001b[39;00m\n\u001b[32m      4\u001b[39m db = client[\u001b[33m\"\u001b[39m\u001b[33mbackoffice\u001b[39m\u001b[33m\"\u001b[39m]\n",
      "\u001b[31mModuleNotFoundError\u001b[39m: No module named 'pymongo'"
     ]
    }
   ],
   "source": [
    "from pymongo import MongoClient\n",
    "\n",
    "client = MongoClient(\"mongodb://mongo:27017\")\n",
    "db = client[\"backoffice\"]\n",
    "\n",
    "db.proveedor.insert_one({\n",
    "    \"cuit\": \"30-66060817-5\",\n",
    "    \"razon_social\": \"Proveedores Tecnología SA\",\n",
    "    \"activo\": True,\n",
    "    \"habilitado\": True\n",
    "})"
   ]
  },
  {
   "cell_type": "code",
   "execution_count": null,
   "id": "5f2c56b2",
   "metadata": {},
   "outputs": [],
   "source": [
    "from pymongo import MongoClient\n",
    "\n",
    "client = MongoClient(\"mongodb://mongo:27017\")\n",
    "db = client[\"backoffice\"]\n",
    "\n",
    "proveedores = db.proveedor.find()\n",
    "\n",
    "with open(\"proveedores.txt\", \"w\", encoding=\"utf-8\") as f:\n",
    "    for proveedor in proveedores:\n",
    "        f.write(str(proveedor) + \"\\n\")"
   ]
  },
  {
   "cell_type": "code",
   "execution_count": 2,
   "id": "394638c9-26bc-408d-9181-261033a099a0",
   "metadata": {},
   "outputs": [
    {
     "ename": "ModuleNotFoundError",
     "evalue": "No module named 'neo4j'",
     "output_type": "error",
     "traceback": [
      "\u001b[31m---------------------------------------------------------------------------\u001b[39m",
      "\u001b[31mModuleNotFoundError\u001b[39m                       Traceback (most recent call last)",
      "\u001b[36mCell\u001b[39m\u001b[36m \u001b[39m\u001b[32mIn[2]\u001b[39m\u001b[32m, line 1\u001b[39m\n\u001b[32m----> \u001b[39m\u001b[32m1\u001b[39m \u001b[38;5;28;01mfrom\u001b[39;00m\u001b[38;5;250m \u001b[39m\u001b[34;01mneo4j\u001b[39;00m\u001b[38;5;250m \u001b[39m\u001b[38;5;28;01mimport\u001b[39;00m GraphDatabase\n\u001b[32m      3\u001b[39m \u001b[38;5;66;03m# Conexión al servicio Bolt de Neo4j (en docker)\u001b[39;00m\n\u001b[32m      4\u001b[39m uri = \u001b[33m\"\u001b[39m\u001b[33mbolt://neo4j:7687\u001b[39m\u001b[33m\"\u001b[39m\n",
      "\u001b[31mModuleNotFoundError\u001b[39m: No module named 'neo4j'"
     ]
    }
   ],
   "source": [
    "from neo4j import GraphDatabase\n",
    "\n",
    "# Conexión al servicio Bolt de Neo4j (en docker)\n",
    "uri = \"bolt://neo4j:7687\"\n",
    "driver = GraphDatabase.driver(uri, auth=(\"neo4j\", \"longerpass123\"))\n",
    "\n",
    "# Función para insertar un proveedor\n",
    "def insertar_proveedor(tx, cuit, razon_social, activo, habilitado):\n",
    "    tx.run(\n",
    "        \"\"\"\n",
    "        CREATE (p:Proveedor {\n",
    "            cuit: $cuit,\n",
    "            razon_social: $razon_social,\n",
    "            activo: $activo,\n",
    "            habilitado: $habilitado\n",
    "        })\n",
    "        \"\"\",\n",
    "        cuit=cuit,\n",
    "        razon_social=razon_social,\n",
    "        activo=activo,\n",
    "        habilitado=habilitado\n",
    "    )\n",
    "\n",
    "# Ejecutar la inserción\n",
    "with driver.session() as session:\n",
    "    session.execute_write(\n",
    "        insertar_proveedor,\n",
    "        \"30-66060817-5\",\n",
    "        \"Proveedores Tecnología SA\",\n",
    "        True,\n",
    "        True\n",
    "    )\n"
   ]
  },
  {
   "cell_type": "code",
   "execution_count": 1,
   "id": "fb9b915c-397e-4862-8042-b39ce3d7570e",
   "metadata": {},
   "outputs": [
    {
     "ename": "ModuleNotFoundError",
     "evalue": "No module named 'neo4j'",
     "output_type": "error",
     "traceback": [
      "\u001b[31m---------------------------------------------------------------------------\u001b[39m",
      "\u001b[31mModuleNotFoundError\u001b[39m                       Traceback (most recent call last)",
      "\u001b[36mCell\u001b[39m\u001b[36m \u001b[39m\u001b[32mIn[1]\u001b[39m\u001b[32m, line 1\u001b[39m\n\u001b[32m----> \u001b[39m\u001b[32m1\u001b[39m \u001b[38;5;28;01mfrom\u001b[39;00m\u001b[38;5;250m \u001b[39m\u001b[34;01mneo4j\u001b[39;00m\u001b[38;5;250m \u001b[39m\u001b[38;5;28;01mimport\u001b[39;00m GraphDatabase\n\u001b[32m      3\u001b[39m uri = \u001b[33m\"\u001b[39m\u001b[33mbolt://neo4j:7687\u001b[39m\u001b[33m\"\u001b[39m\n\u001b[32m      4\u001b[39m driver = GraphDatabase.driver(uri, auth=(\u001b[33m\"\u001b[39m\u001b[33mneo4j\u001b[39m\u001b[33m\"\u001b[39m, \u001b[33m\"\u001b[39m\u001b[33mlongerpass123\u001b[39m\u001b[33m\"\u001b[39m))\n",
      "\u001b[31mModuleNotFoundError\u001b[39m: No module named 'neo4j'"
     ]
    }
   ],
   "source": [
    "from neo4j import GraphDatabase\n",
    "\n",
    "uri = \"bolt://neo4j:7687\"\n",
    "driver = GraphDatabase.driver(uri, auth=(\"neo4j\", \"longerpass123\"))\n",
    "\n",
    "def obtener_proveedores(tx):\n",
    "    result = tx.run(\"MATCH (p:Proveedor) RETURN p\")\n",
    "    return [record[\"p\"] for record in result]\n",
    "\n",
    "with driver.session() as session:\n",
    "    proveedores = session.execute_read(obtener_proveedores)\n",
    "\n",
    "for p in proveedores:\n",
    "    print(dict(p))  # convierte el nodo a un diccionario para ver sus propiedades\n"
   ]
  },
  {
   "cell_type": "code",
   "execution_count": null,
   "id": "7e301ce7-ca5f-4c6b-8708-1010d50b28bd",
   "metadata": {},
   "outputs": [],
   "source": []
  }
 ],
 "metadata": {
  "kernelspec": {
   "display_name": "Python 3",
   "language": "python",
   "name": "python3"
  },
  "language_info": {
   "codemirror_mode": {
    "name": "ipython",
    "version": 3
   },
   "file_extension": ".py",
   "mimetype": "text/x-python",
   "name": "python",
   "nbconvert_exporter": "python",
   "pygments_lexer": "ipython3",
   "version": "3.12.1"
  }
 },
 "nbformat": 4,
 "nbformat_minor": 5
}
