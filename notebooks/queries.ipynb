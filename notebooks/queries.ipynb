{
 "cells": [
  {
   "cell_type": "code",
   "execution_count": null,
   "id": "142b5e15",
   "metadata": {
    "vscode": {
     "languageId": "plaintext"
    }
   },
   "outputs": [],
   "source": []
  },
  {
   "cell_type": "code",
   "execution_count": null,
   "id": "aced20cb",
   "metadata": {
    "vscode": {
     "languageId": "plaintext"
    }
   },
   "outputs": [],
   "source": []
  },
  {
   "cell_type": "code",
   "execution_count": 8,
   "id": "92715b79-56a3-4392-8fcf-86bda50f7683",
   "metadata": {},
   "outputs": [],
   "source": [
    "#   Ejercicio 3\n",
    "\n",
    "from pymongo import MongoClient\n",
    "import json\n",
    "\n",
    "client = MongoClient(\"mongodb://mongo:27017\")\n",
    "\n",
    "def save_to_txt(filename, data):\n",
    "    with open(filename, \"w\", encoding=\"utf-8\") as f:\n",
    "        for doc in data:\n",
    "            f.write(json.dumps(doc, default=str, indent=2) + \"\\n\")\n",
    "\n",
    "db = client[\"mi_base\"]\n",
    "proveedores = db[\"proveedores\"]\n",
    "\n",
    "query3 = proveedores.aggregate([\n",
    "    {\"$unwind\": \"$telefonos\"},\n",
    "    {\"$project\": {\n",
    "        \"_id\": 0,\n",
    "        \"razon_social\": 1,\n",
    "        \"CUIT\": 1,\n",
    "        \"telefono\": \"$telefonos\"\n",
    "    }}\n",
    "])\n",
    "save_to_txt(\"query3.txt\", list(query3))"
   ]
  },
  {
   "cell_type": "code",
   "execution_count": null,
   "id": "71afcb17-25a8-43ad-933c-c44e034e5fe3",
   "metadata": {},
   "outputs": [],
   "source": []
  },
  {
   "cell_type": "code",
   "execution_count": null,
   "id": "03ad70c6-f466-4183-8b38-4fad24e06e7e",
   "metadata": {},
   "outputs": [],
   "source": []
  },
  {
   "cell_type": "code",
   "execution_count": 2,
   "id": "c3c12984-4e61-4ff8-90a8-107370ddd0ca",
   "metadata": {},
   "outputs": [],
   "source": [
    "#   Ejercicio 6\n",
    "\n",
    "from pymongo import MongoClient\n",
    "\n",
    "client = MongoClient(\"mongodb://mongo:27017\")"
   ]
  },
  {
   "cell_type": "code",
   "execution_count": null,
   "id": "55455494-bd31-44ae-8c9d-352eeb557e6a",
   "metadata": {},
   "outputs": [],
   "source": []
  },
  {
   "cell_type": "code",
   "execution_count": null,
   "id": "bdc30e0f-1bfe-41ac-b3eb-de3e6ae5e422",
   "metadata": {},
   "outputs": [],
   "source": []
  },
  {
   "cell_type": "code",
   "execution_count": 4,
   "id": "8b212ae5-c494-406c-8948-3920d09cfac4",
   "metadata": {},
   "outputs": [],
   "source": [
    "#   Ejercicio 9\n",
    "\n",
    "from pymongo import MongoClient\n",
    "\n",
    "client = MongoClient(\"mongodb://mongo:27017\")"
   ]
  },
  {
   "cell_type": "code",
   "execution_count": null,
   "id": "778d22bd-baaf-4651-a0a1-ceea37bb21f5",
   "metadata": {},
   "outputs": [],
   "source": []
  },
  {
   "cell_type": "code",
   "execution_count": null,
   "id": "3efd5830-ff99-46aa-b2ec-8372b763b7bd",
   "metadata": {},
   "outputs": [],
   "source": []
  },
  {
   "cell_type": "code",
   "execution_count": null,
   "id": "a696b31e-7c33-4e90-a589-4da10fe38eac",
   "metadata": {},
   "outputs": [],
   "source": [
    "#   Ejercicio 12\n",
    "\n",
    "from pymongo import MongoClient\n",
    "\n",
    "client = MongoClient(\"mongodb://mongo:27017\")"
   ]
  },
  {
   "cell_type": "code",
   "execution_count": null,
   "id": "717be921-0704-473e-bfde-a5adcfdbf9b9",
   "metadata": {},
   "outputs": [],
   "source": []
  },
  {
   "cell_type": "code",
   "execution_count": null,
   "id": "a9330082-6deb-4874-bf9a-e2e9cd86b03a",
   "metadata": {},
   "outputs": [],
   "source": []
  },
  {
   "cell_type": "code",
   "execution_count": 6,
   "id": "79e714a3-475e-4ed8-99f3-1790309cf6b1",
   "metadata": {},
   "outputs": [],
   "source": [
    "#   Ejercicio 15\n",
    "\n",
    "from pymongo import MongoClient\n",
    "\n",
    "client = MongoClient(\"mongodb://mongo:27017\")"
   ]
  }
 ],
 "metadata": {
  "kernelspec": {
   "display_name": "Python 3 (ipykernel)",
   "language": "python",
   "name": "python3"
  },
  "language_info": {
   "codemirror_mode": {
    "name": "ipython",
    "version": 3
   },
   "file_extension": ".py",
   "mimetype": "text/x-python",
   "name": "python",
   "nbconvert_exporter": "python",
   "pygments_lexer": "ipython3",
   "version": "3.11.13"
  }
 },
 "nbformat": 4,
 "nbformat_minor": 5
}
