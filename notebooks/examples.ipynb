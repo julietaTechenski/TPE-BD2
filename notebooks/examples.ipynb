{
 "cells": [
  {
   "cell_type": "code",
   "execution_count": null,
   "id": "2629730d",
   "metadata": {},
   "outputs": [],
   "source": [
    "from pymongo import MongoClient\n",
    "\n",
    "client = MongoClient(\"mongodb://mongo:27017\")\n",
    "db = client[\"backoffice\"]\n",
    "\n",
    "db.proveedor.insert_one({\n",
    "    \"cuit\": \"30-66060817-5\",\n",
    "    \"razon_social\": \"Proveedores Tecnología SA\",\n",
    "    \"activo\": True,\n",
    "    \"habilitado\": True\n",
    "})"
   ]
  },
  {
   "cell_type": "code",
   "execution_count": null,
   "id": "5f2c56b2",
   "metadata": {},
   "outputs": [],
   "source": [
    "from pymongo import MongoClient\n",
    "\n",
    "# Conectarse al cliente y a la misma base donde cargaste los datos\n",
    "client = MongoClient(\"mongodb://mongo:27017\")\n",
    "db = client[\"mi_base\"]\n",
    "\n",
    "# Consulta todos los proveedores\n",
    "proveedores = db.proveedores.find({})\n",
    "\n",
    "# Exporta todos los proveedores al archivo de texto\n",
    "with open(\"proveedores.txt\", \"w\", encoding=\"utf-8\") as f:\n",
    "    for proveedor in proveedores:\n",
    "        f.write(str(proveedor) + \"\\n\")\n",
    "\n",
    "print(\"Todos los proveedores fueron guardados en 'proveedores.txt'.\")"
   ]
  },
  {
   "cell_type": "code",
   "execution_count": null,
   "id": "394638c9-26bc-408d-9181-261033a099a0",
   "metadata": {},
   "outputs": [],
   "source": [
    "from neo4j import GraphDatabase\n",
    "\n",
    "# Conexión al servicio Bolt de Neo4j (en docker)\n",
    "uri = \"bolt://neo4j:7687\"\n",
    "driver = GraphDatabase.driver(uri, auth=(\"neo4j\", \"longerpass123\"))\n",
    "\n",
    "# Función para insertar un proveedor\n",
    "def insertar_proveedor(tx, cuit, razon_social, activo, habilitado):\n",
    "    tx.run(\n",
    "        \"\"\"\n",
    "        CREATE (p:Proveedor {\n",
    "            cuit: $cuit,\n",
    "            razon_social: $razon_social,\n",
    "            activo: $activo,\n",
    "            habilitado: $habilitado\n",
    "        })\n",
    "        \"\"\",\n",
    "        cuit=cuit,\n",
    "        razon_social=razon_social,\n",
    "        activo=activo,\n",
    "        habilitado=habilitado\n",
    "    )\n",
    "\n",
    "# Ejecutar la inserción\n",
    "with driver.session() as session:\n",
    "    session.execute_write(\n",
    "        insertar_proveedor,\n",
    "        \"30-66060817-5\",\n",
    "        \"Proveedores Tecnología SA\",\n",
    "        True,\n",
    "        True\n",
    "    )\n"
   ]
  },
  {
   "cell_type": "code",
   "execution_count": null,
   "id": "fb9b915c-397e-4862-8042-b39ce3d7570e",
   "metadata": {},
   "outputs": [],
   "source": [
    "from neo4j import GraphDatabase\n",
    "\n",
    "uri = \"bolt://neo4j:7687\"\n",
    "driver = GraphDatabase.driver(uri, auth=(\"neo4j\", \"longerpass123\"))\n",
    "\n",
    "def obtener_proveedores(tx):\n",
    "    result = tx.run(\"MATCH (p:Proveedor) RETURN p\")\n",
    "    return [record[\"p\"] for record in result]\n",
    "\n",
    "with driver.session() as session:\n",
    "    proveedores = session.execute_read(obtener_proveedores)\n",
    "\n",
    "for p in proveedores:\n",
    "    print(dict(p))  # convierte el nodo a un diccionario para ver sus propiedades\n"
   ]
  }
 ],
 "metadata": {
  "kernelspec": {
   "display_name": "Python 3 (ipykernel)",
   "language": "python",
   "name": "python3"
  },
  "language_info": {
   "codemirror_mode": {
    "name": "ipython",
    "version": 3
   },
   "file_extension": ".py",
   "mimetype": "text/x-python",
   "name": "python",
   "nbconvert_exporter": "python",
   "pygments_lexer": "ipython3",
   "version": "3.11.13"
  }
 },
 "nbformat": 4,
 "nbformat_minor": 5
}
