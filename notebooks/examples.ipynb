{
 "cells": [
  {
   "cell_type": "code",
   "execution_count": 1,
   "id": "2629730d",
   "metadata": {},
   "outputs": [
    {
     "data": {
      "text/plain": [
       "InsertOneResult(ObjectId('68536d7f04af1640ff521d46'), acknowledged=True)"
      ]
     },
     "execution_count": 1,
     "metadata": {},
     "output_type": "execute_result"
    }
   ],
   "source": [
    "from pymongo import MongoClient\n",
    "\n",
    "client = MongoClient(\"mongodb://mongo:27017\")\n",
    "db = client[\"backoffice\"]\n",
    "\n",
    "db.proveedor.insert_one({\n",
    "    \"cuit\": \"30-66060817-5\",\n",
    "    \"razon_social\": \"Proveedores Tecnología SA\",\n",
    "    \"activo\": True,\n",
    "    \"habilitado\": True\n",
    "})"
   ]
  },
  {
   "cell_type": "code",
   "execution_count": 3,
   "id": "5f2c56b2",
   "metadata": {},
   "outputs": [],
   "source": [
    "from pymongo import MongoClient\n",
    "\n",
    "client = MongoClient(\"mongodb://mongo:27017\")\n",
    "db = client[\"backoffice\"]\n",
    "\n",
    "proveedores = db.proveedor.find({})\n",
    "\n",
    "with open(\"proveedores.txt\", \"w\", encoding=\"utf-8\") as f:\n",
    "    for proveedor in proveedores:\n",
    "        f.write(str(proveedor) + \"\\n\")"
   ]
  },
  {
   "cell_type": "code",
   "execution_count": 3,
   "id": "394638c9-26bc-408d-9181-261033a099a0",
   "metadata": {},
   "outputs": [],
   "source": [
    "from neo4j import GraphDatabase\n",
    "\n",
    "# Conexión al servicio Bolt de Neo4j (en docker)\n",
    "uri = \"bolt://neo4j:7687\"\n",
    "driver = GraphDatabase.driver(uri, auth=(\"neo4j\", \"longerpass123\"))\n",
    "\n",
    "# Función para insertar un proveedor\n",
    "def insertar_proveedor(tx, cuit, razon_social, activo, habilitado):\n",
    "    tx.run(\n",
    "        \"\"\"\n",
    "        CREATE (p:Proveedor {\n",
    "            cuit: $cuit,\n",
    "            razon_social: $razon_social,\n",
    "            activo: $activo,\n",
    "            habilitado: $habilitado\n",
    "        })\n",
    "        \"\"\",\n",
    "        cuit=cuit,\n",
    "        razon_social=razon_social,\n",
    "        activo=activo,\n",
    "        habilitado=habilitado\n",
    "    )\n",
    "\n",
    "# Ejecutar la inserción\n",
    "with driver.session() as session:\n",
    "    session.execute_write(\n",
    "        insertar_proveedor,\n",
    "        \"30-66060817-5\",\n",
    "        \"Proveedores Tecnología SA\",\n",
    "        True,\n",
    "        True\n",
    "    )\n"
   ]
  },
  {
   "cell_type": "code",
   "execution_count": 1,
   "id": "fb9b915c-397e-4862-8042-b39ce3d7570e",
   "metadata": {},
   "outputs": [
    {
     "name": "stdout",
     "output_type": "stream",
     "text": [
      "{'id_proveedor': 1, 'CUIT': 30660608172, 'tipo_sociedad': 'SA', 'direccion': 'Pelliza 4234, Olivos, BA', 'razon_social': 'Arcos Plateados', 'habilitado': False, 'activo': False}\n",
      "{'id_proveedor': 2, 'CUIT': 30660608173, 'tipo_sociedad': 'SRL', 'direccion': 'San Mart�n 640 Piso 7, CABA', 'razon_social': 'Grupo Fern�ndez', 'habilitado': True, 'activo': True}\n",
      "{'id_proveedor': 3, 'CUIT': 30660608174, 'tipo_sociedad': 'SAS', 'direccion': 'Av del Libertador 32560, CABA', 'razon_social': 'Innovation', 'habilitado': True, 'activo': True}\n",
      "{'id_proveedor': 4, 'CUIT': 30660608175, 'tipo_sociedad': 'SA', 'direccion': 'Calle 13 452, La Plata, BA', 'razon_social': 'Alimentos Naturales', 'habilitado': False, 'activo': False}\n",
      "{'id_proveedor': 5, 'CUIT': 30660608176, 'tipo_sociedad': 'SA', 'direccion': 'Lavard�n 43, CABA', 'razon_social': 'Servicios Integrales', 'habilitado': True, 'activo': True}\n",
      "{'id_proveedor': 6, 'CUIT': 30660608177, 'tipo_sociedad': 'SA', 'direccion': nan, 'razon_social': 'Transporte R�pido', 'habilitado': True, 'activo': True}\n",
      "{'id_proveedor': 7, 'CUIT': 30660608178, 'tipo_sociedad': 'SA', 'direccion': 'Avda Cabildo 1043 Piso 12, CABA', 'razon_social': 'Productos de Limpieza', 'habilitado': True, 'activo': True}\n",
      "{'id_proveedor': 8, 'CUIT': 30660608179, 'tipo_sociedad': 'SA', 'direccion': 'Direcci�n default', 'razon_social': 'Energ�a Renovable', 'habilitado': True, 'activo': True}\n",
      "{'id_proveedor': 9, 'CUIT': 30660608180, 'tipo_sociedad': 'SA', 'direccion': 'Alvear 4234, Olivos, BA', 'razon_social': 'Estes', 'habilitado': True, 'activo': True}\n",
      "{'id_proveedor': 10, 'CUIT': 30660608181, 'tipo_sociedad': 'SA', 'direccion': 'Reconquista 640 Piso 7, CABA', 'razon_social': 'Saunders', 'habilitado': True, 'activo': True}\n",
      "{'id_proveedor': 11, 'CUIT': 30660608182, 'tipo_sociedad': 'SA', 'direccion': 'Av del Libertador 2560, CABA', 'razon_social': 'Alvarado', 'habilitado': False, 'activo': True}\n",
      "{'id_proveedor': 12, 'CUIT': 30660608183, 'tipo_sociedad': 'SA', 'direccion': 'Calle 45 452, La Plata, BA', 'razon_social': 'Hubbard', 'habilitado': False, 'activo': True}\n",
      "{'id_proveedor': 13, 'CUIT': 30660608184, 'tipo_sociedad': 'SA', 'direccion': 'Iguaz� 43, CABA', 'razon_social': 'Knowles', 'habilitado': True, 'activo': True}\n",
      "{'id_proveedor': 14, 'CUIT': 30660608185, 'tipo_sociedad': 'SA', 'direccion': 'Avda Cabildo 2043 Piso 12, CABA', 'razon_social': 'Servicios de Punta ', 'habilitado': True, 'activo': True}\n",
      "{'id_proveedor': 15, 'CUIT': 30660608190, 'tipo_sociedad': 'SRL', 'direccion': 'Espa�a 4234, Olivos, BA', 'razon_social': 'Consultor�a Avanzada', 'habilitado': True, 'activo': True}\n",
      "{'id_proveedor': 16, 'CUIT': 30660608191, 'tipo_sociedad': 'SRL', 'direccion': 'Tucum�n 640 Piso 7, CABA', 'razon_social': 'Tecnolog�a Moderna', 'habilitado': True, 'activo': True}\n",
      "{'id_proveedor': 17, 'CUIT': 30660608192, 'tipo_sociedad': 'SRL', 'direccion': 'Av del Libertador 12560, CABA', 'razon_social': 'Tecnolog�a Avanzada', 'habilitado': True, 'activo': True}\n",
      "{'id_proveedor': 18, 'CUIT': 30660608193, 'tipo_sociedad': 'SRL', 'direccion': 'Calle 45 246, La Plata, BA', 'razon_social': 'Servicios Generales', 'habilitado': True, 'activo': True}\n",
      "{'id_proveedor': 19, 'CUIT': 30660608194, 'tipo_sociedad': 'SRL', 'direccion': 'Los Patos 3421, CABA', 'razon_social': 'Boyle', 'habilitado': True, 'activo': True}\n",
      "{'id_proveedor': 20, 'CUIT': 30660608195, 'tipo_sociedad': 'SRL', 'direccion': 'Avda Cabildo 1543 Piso 12, CABA', 'razon_social': 'Dorsey', 'habilitado': True, 'activo': True}\n",
      "{'id_proveedor': 21, 'CUIT': 30660608196, 'tipo_sociedad': 'SRL', 'direccion': 'Madero 4234, Olivos, BA', 'razon_social': 'Summers', 'habilitado': True, 'activo': True}\n",
      "{'id_proveedor': 22, 'CUIT': 30660608197, 'tipo_sociedad': 'SRL', 'direccion': 'Per�n 640 Piso 7, CABA', 'razon_social': 'Frye', 'habilitado': False, 'activo': True}\n",
      "{'id_proveedor': 23, 'CUIT': 30660608198, 'tipo_sociedad': 'SRL', 'direccion': 'Av del Libertador 12563, CABA', 'razon_social': 'Swanson', 'habilitado': True, 'activo': True}\n",
      "{'id_proveedor': 24, 'CUIT': 30660608199, 'tipo_sociedad': 'SRL', 'direccion': 'Calle 22 246, La Plata, BA', 'razon_social': 'Burgess', 'habilitado': True, 'activo': True}\n",
      "{'id_proveedor': 25, 'CUIT': 30660608200, 'tipo_sociedad': 'SRL', 'direccion': 'Los Patos 342, CABA', 'razon_social': 'Merrill', 'habilitado': True, 'activo': True}\n",
      "{'id_proveedor': 26, 'CUIT': 30660608201, 'tipo_sociedad': 'SRL', 'direccion': 'Avda Cabildo 1543 Piso 2, CABA', 'razon_social': 'Sweeney', 'habilitado': True, 'activo': True}\n",
      "{'id_proveedor': 27, 'CUIT': 30660608202, 'tipo_sociedad': 'SRL', 'direccion': 'Direcci�n default', 'razon_social': 'Wong', 'habilitado': False, 'activo': True}\n",
      "{'id_proveedor': 28, 'CUIT': 30660608203, 'tipo_sociedad': 'SRL', 'direccion': 'Espora 4234, Olivos, BA', 'razon_social': 'Garrison', 'habilitado': True, 'activo': True}\n",
      "{'id_proveedor': 29, 'CUIT': 30660608204, 'tipo_sociedad': 'SA', 'direccion': 'Florida 640 Piso 7, CABA', 'razon_social': 'Levine', 'habilitado': True, 'activo': True}\n",
      "{'id_proveedor': 30, 'CUIT': 30660608205, 'tipo_sociedad': 'SRL', 'direccion': 'Av del Libertador 22563, CABA', 'razon_social': 'Noel', 'habilitado': True, 'activo': True}\n",
      "{'id_proveedor': 31, 'CUIT': 30660608206, 'tipo_sociedad': 'SAS', 'direccion': 'Calle 2 246, La Plata, BA', 'razon_social': 'Pescados La Sirena', 'habilitado': True, 'activo': True}\n",
      "{'id_proveedor': 32, 'CUIT': 30660608207, 'tipo_sociedad': 'SA', 'direccion': 'Av Caseros 342, CABA', 'razon_social': 'Oneill', 'habilitado': True, 'activo': True}\n",
      "{'id_proveedor': 33, 'CUIT': 30660608208, 'tipo_sociedad': 'SRL', 'direccion': 'Avda Cabildo 543 Piso 2, CABA', 'razon_social': 'Parrish', 'habilitado': True, 'activo': True}\n",
      "{'id_proveedor': 34, 'CUIT': 30660608212, 'tipo_sociedad': 'SA', 'direccion': 'Madero 3234, Olivos, BA', 'razon_social': 'Miranda', 'habilitado': True, 'activo': True}\n",
      "{'id_proveedor': 35, 'CUIT': 30660608213, 'tipo_sociedad': 'SA', 'direccion': 'Per�n 740 Piso 7, CABA', 'razon_social': 'Potts', 'habilitado': True, 'activo': True}\n",
      "{'id_proveedor': 36, 'CUIT': 30660608214, 'tipo_sociedad': 'SA', 'direccion': 'Av del Libertador 22563, CABA', 'razon_social': 'Roy', 'habilitado': False, 'activo': True}\n",
      "{'id_proveedor': 37, 'CUIT': 30660608215, 'tipo_sociedad': 'SA', 'direccion': 'Calle 22 y Calle 15, La Plata, BA', 'razon_social': 'Gallagher', 'habilitado': False, 'activo': True}\n",
      "{'id_proveedor': 38, 'CUIT': 30660608216, 'tipo_sociedad': 'SA', 'direccion': 'Av Caseros 3425, CABA', 'razon_social': 'Tyson', 'habilitado': False, 'activo': True}\n",
      "{'id_proveedor': 39, 'CUIT': 30660608217, 'tipo_sociedad': 'SA', 'direccion': 'Avda Cabildo 743 Piso 2, CABA', 'razon_social': 'Copeland', 'habilitado': True, 'activo': True}\n",
      "{'id_proveedor': 40, 'CUIT': 20243608218, 'tipo_sociedad': nan, 'direccion': nan, 'razon_social': 'Carlos Fern�ndez', 'habilitado': True, 'activo': True}\n",
      "{'id_proveedor': 41, 'CUIT': 30660608219, 'tipo_sociedad': 'Coletiva', 'direccion': 'Av. Rivadavia 4505, CABA', 'razon_social': 'Morton', 'habilitado': True, 'activo': True}\n",
      "{'id_proveedor': 42, 'CUIT': 20243608219, 'tipo_sociedad': nan, 'direccion': nan, 'razon_social': 'Victor Manuel', 'habilitado': True, 'activo': True}\n",
      "{'id_proveedor': 43, 'CUIT': 20243608220, 'tipo_sociedad': nan, 'direccion': 'Palpa 2390 Piso 13 Oficina 43, CABA', 'razon_social': 'Ang�lica Salerno', 'habilitado': True, 'activo': True}\n",
      "{'id_proveedor': 44, 'CUIT': 30660608222, 'tipo_sociedad': 'SAS', 'direccion': 'Madero 3234, Olivos, BA', 'razon_social': 'Ramos', 'habilitado': True, 'activo': True}\n",
      "{'id_proveedor': 45, 'CUIT': 30660608223, 'tipo_sociedad': 'SAS', 'direccion': 'Per�n 740 Piso 7, CABA', 'razon_social': 'Baker', 'habilitado': True, 'activo': True}\n",
      "{'id_proveedor': 46, 'CUIT': 30660608224, 'tipo_sociedad': 'SAS', 'direccion': 'Av del Libertador 22563, CABA', 'razon_social': 'Bernard', 'habilitado': True, 'activo': True}\n",
      "{'id_proveedor': 47, 'CUIT': 30660608225, 'tipo_sociedad': 'SAS', 'direccion': 'Calle 22 y Calle 15, La Plata, BA', 'razon_social': 'Norton', 'habilitado': True, 'activo': True}\n",
      "{'id_proveedor': 48, 'CUIT': 30660608226, 'tipo_sociedad': 'SAS', 'direccion': 'Av Caseros 3425, CABA', 'razon_social': 'Casey', 'habilitado': True, 'activo': True}\n",
      "{'id_proveedor': 49, 'CUIT': 20243608221, 'tipo_sociedad': nan, 'direccion': 'Avda Cabildo 743 Piso 2, CABA', 'razon_social': 'Pepe Morgan', 'habilitado': True, 'activo': True}\n",
      "{'id_proveedor': 50, 'CUIT': 20243608222, 'tipo_sociedad': nan, 'direccion': 'Madero 3234, Olivos, BA', 'razon_social': 'Catalina Reinolds', 'habilitado': True, 'activo': True}\n",
      "{'id_proveedor': 51, 'CUIT': 30660608229, 'tipo_sociedad': 'SA', 'direccion': 'Per�n 740 Piso 7, CABA', 'razon_social': 'Stokes', 'habilitado': True, 'activo': True}\n",
      "{'id_proveedor': 52, 'CUIT': 30660608230, 'tipo_sociedad': 'SA', 'direccion': 'Av del Libertador 22563, CABA', 'razon_social': 'Cooke', 'habilitado': True, 'activo': True}\n",
      "{'id_proveedor': 53, 'CUIT': 30660608231, 'tipo_sociedad': 'SA', 'direccion': 'Calle 22 y Calle 17, La Plata, BA', 'razon_social': 'Herman', 'habilitado': True, 'activo': True}\n",
      "{'id_proveedor': 54, 'CUIT': 30660608232, 'tipo_sociedad': 'SA', 'direccion': 'Caseros 1425, CABA', 'razon_social': 'Reynolds', 'habilitado': True, 'activo': True}\n",
      "{'id_proveedor': 55, 'CUIT': 30660608237, 'tipo_sociedad': 'SA', 'direccion': 'Cabildo 843 Piso 2, CABA', 'razon_social': 'Robbins', 'habilitado': True, 'activo': True}\n",
      "{'id_proveedor': 56, 'CUIT': 30660608238, 'tipo_sociedad': 'SA', 'direccion': 'Urquiza 3234, Olivos, BA', 'razon_social': 'Ray', 'habilitado': False, 'activo': True}\n",
      "{'id_proveedor': 57, 'CUIT': 30660608239, 'tipo_sociedad': 'SA', 'direccion': 'Reconquista 740 Piso 11, CABA', 'razon_social': 'Moreno', 'habilitado': False, 'activo': True}\n",
      "{'id_proveedor': 58, 'CUIT': 30660608240, 'tipo_sociedad': 'SA', 'direccion': 'Av del Libertador 20563, CABA', 'razon_social': 'Cole', 'habilitado': True, 'activo': True}\n",
      "{'id_proveedor': 59, 'CUIT': 30660608241, 'tipo_sociedad': 'SA', 'direccion': 'Calle 64 5, La Plata, BA', 'razon_social': 'Leblanc', 'habilitado': True, 'activo': True}\n",
      "{'id_proveedor': 60, 'CUIT': 30660608242, 'tipo_sociedad': 'SA', 'direccion': 'Av Caseros 3025, CABA', 'razon_social': 'Boyer', 'habilitado': True, 'activo': True}\n",
      "{'id_proveedor': 61, 'CUIT': 30660608243, 'tipo_sociedad': 'SA', 'direccion': 'Avda Cabildo 711 Piso 2, CABA', 'razon_social': 'Clemons', 'habilitado': True, 'activo': True}\n",
      "{'id_proveedor': 62, 'CUIT': 20243608223, 'tipo_sociedad': nan, 'direccion': nan, 'razon_social': 'Gonz�lez Esteban', 'habilitado': False, 'activo': False}\n",
      "{'id_proveedor': 63, 'CUIT': 30660608245, 'tipo_sociedad': 'SRL', 'direccion': 'Madero 3234 Piso 12, Olivos, BA', 'razon_social': 'Moss', 'habilitado': True, 'activo': True}\n",
      "{'id_proveedor': 64, 'CUIT': 30660608246, 'tipo_sociedad': 'SRL', 'direccion': 'Per�n 740, CABA', 'razon_social': 'Grimes', 'habilitado': True, 'activo': True}\n",
      "{'id_proveedor': 65, 'CUIT': 30660608247, 'tipo_sociedad': 'SRL', 'direccion': 'Av del Libertador 22333, CABA', 'razon_social': 'Francis', 'habilitado': False, 'activo': False}\n",
      "{'id_proveedor': 66, 'CUIT': 30660608248, 'tipo_sociedad': 'SRL', 'direccion': 'Calle 50, La Plata, BA', 'razon_social': 'Schroeder', 'habilitado': False, 'activo': False}\n",
      "{'id_proveedor': 67, 'CUIT': 30660608249, 'tipo_sociedad': 'SRL', 'direccion': 'Av Caseros 3435, CABA', 'razon_social': 'Page', 'habilitado': True, 'activo': True}\n",
      "{'id_proveedor': 68, 'CUIT': 30660608250, 'tipo_sociedad': 'SRL', 'direccion': 'Avda Cabildo 1143 Piso 2, CABA', 'razon_social': 'Harris', 'habilitado': True, 'activo': True}\n",
      "{'id_proveedor': 69, 'CUIT': 30660608251, 'tipo_sociedad': 'SRL', 'direccion': 'Madero 3230, Olivos, BA', 'razon_social': 'Rose', 'habilitado': False, 'activo': False}\n",
      "{'id_proveedor': 70, 'CUIT': 30660608252, 'tipo_sociedad': 'SRL', 'direccion': 'Per�n 750 Piso 7, CABA', 'razon_social': 'Oconnor', 'habilitado': False, 'activo': False}\n",
      "{'id_proveedor': 71, 'CUIT': 30660608253, 'tipo_sociedad': 'SRL', 'direccion': 'Av del Libertador 4563, CABA', 'razon_social': 'Sutton', 'habilitado': True, 'activo': True}\n",
      "{'id_proveedor': 72, 'CUIT': 30660608254, 'tipo_sociedad': 'SRL', 'direccion': 'Calle 44, La Plata, BA', 'razon_social': 'Pugh', 'habilitado': True, 'activo': True}\n",
      "{'id_proveedor': 73, 'CUIT': 30660608255, 'tipo_sociedad': 'SRL', 'direccion': 'Av Caseros 245, CABA', 'razon_social': 'Savage', 'habilitado': False, 'activo': False}\n",
      "{'id_proveedor': 74, 'CUIT': 30660608256, 'tipo_sociedad': 'SRL', 'direccion': 'Avda Cabildo 1743 Piso 2, CABA', 'razon_social': 'Bond', 'habilitado': False, 'activo': False}\n",
      "{'id_proveedor': 75, 'CUIT': 30660608257, 'tipo_sociedad': 'SRL', 'direccion': 'Direcci�n default', 'razon_social': 'Moreno', 'habilitado': True, 'activo': True}\n",
      "{'id_proveedor': 76, 'CUIT': 30660608258, 'tipo_sociedad': 'SRL', 'direccion': 'Direcci�n default', 'razon_social': 'Henson', 'habilitado': True, 'activo': True}\n",
      "{'id_proveedor': 77, 'CUIT': 30660608259, 'tipo_sociedad': 'SRL', 'direccion': nan, 'razon_social': 'Barker', 'habilitado': False, 'activo': False}\n",
      "{'id_proveedor': 78, 'CUIT': 30660608260, 'tipo_sociedad': 'SRL', 'direccion': 'Madero 3234, Olivos, BA', 'razon_social': 'Berger', 'habilitado': False, 'activo': False}\n",
      "{'id_proveedor': 79, 'CUIT': 30660608261, 'tipo_sociedad': 'SRL', 'direccion': 'Per�n 740 Piso 7, CABA', 'razon_social': 'Holloway', 'habilitado': True, 'activo': True}\n",
      "{'id_proveedor': 80, 'CUIT': 30660608262, 'tipo_sociedad': 'SRL', 'direccion': 'Av del Libertador 13563, CABA', 'razon_social': 'Vance', 'habilitado': True, 'activo': True}\n",
      "{'id_proveedor': 81, 'CUIT': 30660608263, 'tipo_sociedad': 'SRL', 'direccion': 'Calle 15 34, La Plata, BA', 'razon_social': 'Clarke', 'habilitado': False, 'activo': False}\n",
      "{'id_proveedor': 82, 'CUIT': 30660608264, 'tipo_sociedad': 'SRL', 'direccion': 'Av Caseros 1425, CABA', 'razon_social': 'Meyers', 'habilitado': False, 'activo': False}\n",
      "{'id_proveedor': 83, 'CUIT': 30660608265, 'tipo_sociedad': 'SRL', 'direccion': 'Avda Cabildo 740 Piso 2, CABA', 'razon_social': 'Randolph', 'habilitado': True, 'activo': True}\n",
      "{'id_proveedor': 84, 'CUIT': 30660608266, 'tipo_sociedad': 'SRL', 'direccion': 'Madero 3230, Olivos, BA', 'razon_social': 'Bray', 'habilitado': True, 'activo': True}\n",
      "{'id_proveedor': 85, 'CUIT': 30660608267, 'tipo_sociedad': 'Coletiva', 'direccion': 'Jun�n 740 Piso 7, CABA', 'razon_social': 'Kline', 'habilitado': False, 'activo': False}\n",
      "{'id_proveedor': 86, 'CUIT': 30660608268, 'tipo_sociedad': 'Coletiva', 'direccion': 'Av del Libertador 2563, CABA', 'razon_social': 'Crane', 'habilitado': False, 'activo': False}\n",
      "{'id_proveedor': 87, 'CUIT': 30660608269, 'tipo_sociedad': 'SA', 'direccion': 'Calle 22 544, La Plata, BA', 'razon_social': 'Franks', 'habilitado': True, 'activo': True}\n",
      "{'id_proveedor': 88, 'CUIT': 30660608270, 'tipo_sociedad': 'SRL', 'direccion': 'Av Caseros 2425, CABA', 'razon_social': 'Ryan', 'habilitado': True, 'activo': True}\n",
      "{'id_proveedor': 89, 'CUIT': 30660608271, 'tipo_sociedad': 'SRL', 'direccion': 'Cabildo 643 Piso 2, CABA', 'razon_social': 'Haynes', 'habilitado': False, 'activo': False}\n"
     ]
    }
   ],
   "source": [
    "from neo4j import GraphDatabase\n",
    "\n",
    "uri = \"bolt://neo4j:7687\"\n",
    "driver = GraphDatabase.driver(uri, auth=(\"neo4j\", \"longerpass123\"))\n",
    "\n",
    "def obtener_proveedores(tx):\n",
    "    result = tx.run(\"MATCH (p:Proveedor) RETURN p\")\n",
    "    return [record[\"p\"] for record in result]\n",
    "\n",
    "with driver.session() as session:\n",
    "    proveedores = session.execute_read(obtener_proveedores)\n",
    "\n",
    "for p in proveedores:\n",
    "    print(dict(p))  # convierte el nodo a un diccionario para ver sus propiedades\n"
   ]
  },
  {
   "cell_type": "code",
   "execution_count": 12,
   "id": "1f26acbe-cec5-4b41-bde0-ca9d48464b9b",
   "metadata": {},
   "outputs": [
    {
     "ename": "NameError",
     "evalue": "name 'col_proveedores' is not defined",
     "output_type": "error",
     "traceback": [
      "\u001b[31m---------------------------------------------------------------------------\u001b[39m",
      "\u001b[31mNameError\u001b[39m                                 Traceback (most recent call last)",
      "\u001b[36mCell\u001b[39m\u001b[36m \u001b[39m\u001b[32mIn[12]\u001b[39m\u001b[32m, line 1\u001b[39m\n\u001b[32m----> \u001b[39m\u001b[32m1\u001b[39m \u001b[38;5;28;01mfor\u001b[39;00m prov \u001b[38;5;129;01min\u001b[39;00m \u001b[43mcol_proveedores\u001b[49m.find():\n\u001b[32m      2\u001b[39m     \u001b[38;5;28mprint\u001b[39m(\u001b[33mf\u001b[39m\u001b[33m\"\u001b[39m\u001b[33mProveedor: \u001b[39m\u001b[38;5;132;01m{\u001b[39;00mprov[\u001b[33m'\u001b[39m\u001b[33mrazon_social\u001b[39m\u001b[33m'\u001b[39m]\u001b[38;5;132;01m}\u001b[39;00m\u001b[33m\"\u001b[39m)\n\u001b[32m      3\u001b[39m     \u001b[38;5;28;01mfor\u001b[39;00m tel \u001b[38;5;129;01min\u001b[39;00m prov.get(\u001b[33m'\u001b[39m\u001b[33mtelefonos\u001b[39m\u001b[33m'\u001b[39m, []):\n",
      "\u001b[31mNameError\u001b[39m: name 'col_proveedores' is not defined"
     ]
    }
   ],
   "source": [
    "\n"
   ]
  },
  {
   "cell_type": "code",
   "execution_count": null,
   "id": "3610d37e-119c-465c-b827-b32605f68f16",
   "metadata": {},
   "outputs": [],
   "source": []
  },
  {
   "cell_type": "code",
   "execution_count": null,
   "id": "67de5c0a-7f8a-4b53-8422-eccfe6a643cd",
   "metadata": {},
   "outputs": [],
   "source": []
  }
 ],
 "metadata": {
  "kernelspec": {
   "display_name": "Python 3 (ipykernel)",
   "language": "python",
   "name": "python3"
  },
  "language_info": {
   "codemirror_mode": {
    "name": "ipython",
    "version": 3
   },
   "file_extension": ".py",
   "mimetype": "text/x-python",
   "name": "python",
   "nbconvert_exporter": "python",
   "pygments_lexer": "ipython3",
   "version": "3.11.13"
  }
 },
 "nbformat": 4,
 "nbformat_minor": 5
}
