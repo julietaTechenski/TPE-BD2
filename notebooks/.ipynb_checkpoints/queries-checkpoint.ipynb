{
 "cells": [
  {
   "cell_type": "code",
   "execution_count": null,
   "id": "f08f04da",
   "metadata": {},
   "outputs": [],
   "source": [
    "# Ejercicio 1 Obtener los datos de los proveedores activos y habilitados junto con sus teléfonos.  Mongo \n",
    "\n",
    "from pymongo import MongoClient\n",
    "\n",
    "client = MongoClient(\"mongodb://mongo:27017\")\n",
    "db = client[\"backoffice\"]\n",
    "\n",
    "cursor = db.proveedor.proveedores.find(\n",
    "    {\"activo\": True, \"habilitado\": True},\n",
    "    {\"_id\": 0, \"nombre\": 1, \"telefono\": 1}\n",
    ")\n",
    "\n",
    "for proveedor in cursor:\n",
    "    print(f\"Nombre: {proveedor['nombre']}, Teléfono: {proveedor['telefono']}\")\n",
    "\n",
    "\n",
    "client.close()\n"
   ]
  },
  {
   "cell_type": "code",
   "execution_count": null,
   "id": "a9cdbf8e",
   "metadata": {},
   "outputs": [],
   "source": [
    "# Ejercicio 4"
   ]
  },
  {
   "cell_type": "code",
   "execution_count": null,
   "id": "b3a87688",
   "metadata": {},
   "outputs": [],
   "source": [
    "# Ejercicio 7"
   ]
  },
  {
   "cell_type": "code",
   "execution_count": null,
   "id": "142b5e15",
   "metadata": {},
   "outputs": [],
   "source": [
    "# Ejercicio 10"
   ]
  },
  {
   "cell_type": "code",
   "execution_count": null,
   "id": "aced20cb",
   "metadata": {},
   "outputs": [],
   "source": [
    "# Ejercicio 13"
   ]
  }
 ],
 "metadata": {
  "language_info": {
   "name": "python"
  }
 },
 "nbformat": 4,
 "nbformat_minor": 5
}
