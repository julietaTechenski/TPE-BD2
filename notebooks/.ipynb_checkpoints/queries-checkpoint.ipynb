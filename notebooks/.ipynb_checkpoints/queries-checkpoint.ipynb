{
 "cells": [
  {
   "cell_type": "code",
   "execution_count": null,
   "id": "2629730d",
   "metadata": {
    "vscode": {
     "languageId": "plaintext"
    }
   },
   "outputs": [
    {
     "data": {
      "text/plain": [
       "InsertOneResult(ObjectId('68534a740a9aca7a5fcead02'), acknowledged=True)"
      ]
     },
     "execution_count": 2,
     "metadata": {},
     "output_type": "execute_result"
    }
   ],
   "source": [
    "from pymongo import MongoClient\n",
    "\n",
    "client = MongoClient(\"mongodb://mongo:27017\")  # o \"mongodb://mongo:27017\" si estás en Docker\n",
    "db = client[\"backoffice\"]\n",
    "\n",
    "db.proveedor.insert_one({\n",
    "    \"cuit\": \"30-66060817-5\",\n",
    "    \"razon_social\": \"Proveedores Tecnología SA\",\n",
    "    \"activo\": True,\n",
    "    \"habilitado\": True\n",
    "})"
   ]
  },
  {
   "cell_type": "code",
   "execution_count": null,
   "id": "5f2c56b2",
   "metadata": {
    "vscode": {
     "languageId": "plaintext"
    }
   },
   "outputs": [
    {
     "name": "stdout",
     "output_type": "stream",
     "text": [
      "{'_id': ObjectId('68534a740a9aca7a5fcead02'), 'cuit': '30-66060817-5', 'razon_social': 'Proveedores Tecnología SA', 'activo': True, 'habilitado': True}\n"
     ]
    }
   ],
   "source": [
    "from pymongo import MongoClient\n",
    "\n",
    "client = MongoClient(\"mongodb://mongo:27017\")\n",
    "db = client[\"backoffice\"]\n",
    "\n",
    "proveedores = db.proveedor.find()\n",
    "\n",
    "with open(\"proveedores.txt\", \"w\", encoding=\"utf-8\") as f:\n",
    "    for proveedor in proveedores:\n",
    "        f.write(str(proveedor) + \"\\n\")"
   ]
  },
  {
   "cell_type": "code",
   "execution_count": null,
   "id": "394638c9-26bc-408d-9181-261033a099a0",
   "metadata": {},
   "outputs": [],
   "source": []
  }
 ],
 "metadata": {
  "kernelspec": {
   "display_name": "Python 3 (ipykernel)",
   "language": "python",
   "name": "python3"
  },
  "language_info": {
   "codemirror_mode": {
    "name": "ipython",
    "version": 3
   },
   "file_extension": ".py",
   "mimetype": "text/x-python",
   "name": "python",
   "nbconvert_exporter": "python",
   "pygments_lexer": "ipython3",
   "version": "3.11.13"
  }
 },
 "nbformat": 4,
 "nbformat_minor": 5
}
